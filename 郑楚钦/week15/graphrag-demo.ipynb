{
 "cells": [
  {
   "cell_type": "code",
   "execution_count": 1,
   "id": "1a7b39ef",
   "metadata": {
    "execution": {
     "iopub.execute_input": "2025-07-04T04:38:57.201771Z",
     "iopub.status.busy": "2025-07-04T04:38:57.201463Z",
     "iopub.status.idle": "2025-07-04T04:39:47.458793Z",
     "shell.execute_reply": "2025-07-04T04:39:47.457633Z"
    },
    "papermill": {
     "duration": 50.26313,
     "end_time": "2025-07-04T04:39:47.460694",
     "exception": false,
     "start_time": "2025-07-04T04:38:57.197564",
     "status": "completed"
    },
    "tags": []
   },
   "outputs": [
    {
     "name": "stdout",
     "output_type": "stream",
     "text": [
      "\u001b[31mERROR: pip's dependency resolver does not currently take into account all the packages that are installed. This behaviour is the source of the following dependency conflicts.\r\n",
      "tsfresh 0.21.0 requires scipy>=1.14.0; python_version >= \"3.10\", but you have scipy 1.12.0 which is incompatible.\r\n",
      "ydata-profiling 4.16.1 requires matplotlib<=3.10,>=3.5, but you have matplotlib 3.10.3 which is incompatible.\r\n",
      "ypy-websocket 0.8.4 requires aiofiles<23,>=22.1.0, but you have aiofiles 24.1.0 which is incompatible.\r\n",
      "category-encoders 2.7.0 requires scikit-learn<1.6.0,>=1.0.0, but you have scikit-learn 1.7.0 which is incompatible.\r\n",
      "cesium 0.12.4 requires numpy<3.0,>=2.0, but you have numpy 1.26.4 which is incompatible.\r\n",
      "dopamine-rl 4.1.2 requires gymnasium>=1.0.0, but you have gymnasium 0.29.0 which is incompatible.\r\n",
      "sklearn-compat 0.1.3 requires scikit-learn<1.7,>=1.2, but you have scikit-learn 1.7.0 which is incompatible.\u001b[0m\u001b[31m\r\n",
      "\u001b[0m"
     ]
    }
   ],
   "source": [
    "!pip install graphrag > /dev/null"
   ]
  },
  {
   "cell_type": "code",
   "execution_count": 2,
   "id": "e9a07909",
   "metadata": {
    "execution": {
     "iopub.execute_input": "2025-07-04T04:39:47.466686Z",
     "iopub.status.busy": "2025-07-04T04:39:47.466315Z",
     "iopub.status.idle": "2025-07-04T04:39:47.479422Z",
     "shell.execute_reply": "2025-07-04T04:39:47.478251Z"
    },
    "papermill": {
     "duration": 0.017847,
     "end_time": "2025-07-04T04:39:47.481051",
     "exception": false,
     "start_time": "2025-07-04T04:39:47.463204",
     "status": "completed"
    },
    "tags": []
   },
   "outputs": [
    {
     "name": "stdout",
     "output_type": "stream",
     "text": [
      "/kaggle/input/shaoyourenzoudelu/shaoyourenzoudelu.txt\n",
      "/kaggle/input/shaoyourenzoudelu/settings.yaml\n"
     ]
    }
   ],
   "source": [
    "import os\n",
    "\n",
    "for dirname, _, filenames in os.walk('/kaggle/input'):\n",
    "    for filename in filenames:\n",
    "        print(os.path.join(dirname, filename))"
   ]
  },
  {
   "cell_type": "code",
   "execution_count": 3,
   "id": "caeaeb42",
   "metadata": {
    "execution": {
     "iopub.execute_input": "2025-07-04T04:39:47.486350Z",
     "iopub.status.busy": "2025-07-04T04:39:47.486031Z",
     "iopub.status.idle": "2025-07-04T04:39:54.852080Z",
     "shell.execute_reply": "2025-07-04T04:39:54.850960Z"
    },
    "papermill": {
     "duration": 7.370762,
     "end_time": "2025-07-04T04:39:54.853913",
     "exception": false,
     "start_time": "2025-07-04T04:39:47.483151",
     "status": "completed"
    },
    "tags": []
   },
   "outputs": [
    {
     "name": "stdout",
     "output_type": "stream",
     "text": [
      "\u001b[2KInitializing project at \u001b[35m/kaggle/working/\u001b[0m\u001b[95mwork\u001b[0m\r\n",
      "⠋ GraphRAG Indexer "
     ]
    }
   ],
   "source": [
    "!mkdir work\n",
    "!mkdir work/input\n",
    "!cp -r /kaggle/input/shaoyourenzoudelu/shaoyourenzoudelu.txt ./work/input\n",
    "!graphrag init --root ./work"
   ]
  },
  {
   "cell_type": "code",
   "execution_count": 4,
   "id": "f083f2b3",
   "metadata": {
    "execution": {
     "iopub.execute_input": "2025-07-04T04:39:54.859798Z",
     "iopub.status.busy": "2025-07-04T04:39:54.859470Z",
     "iopub.status.idle": "2025-07-04T10:55:25.637572Z",
     "shell.execute_reply": "2025-07-04T10:55:25.636257Z"
    },
    "papermill": {
     "duration": 22530.783381,
     "end_time": "2025-07-04T10:55:25.639704",
     "exception": false,
     "start_time": "2025-07-04T04:39:54.856323",
     "status": "completed"
    },
    "tags": []
   },
   "outputs": [
    {
     "name": "stdout",
     "output_type": "stream",
     "text": [
      "2025-07-04 04:40:11.476690: E external/local_xla/xla/stream_executor/cuda/cuda_fft.cc:477] Unable to register cuFFT factory: Attempting to register factory for plugin cuFFT when one has already been registered\r\n",
      "WARNING: All log messages before absl::InitializeLog() is called are written to STDERR\r\n",
      "E0000 00:00:1751604011.720958      80 cuda_dnn.cc:8310] Unable to register cuDNN factory: Attempting to register factory for plugin cuDNN when one has already been registered\r\n",
      "E0000 00:00:1751604011.791716      80 cuda_blas.cc:1418] Unable to register cuBLAS factory: Attempting to register factory for plugin cuBLAS when one has already been registered\r\n",
      "\u001b[0m\u001b[38;5;8m[\u001b[0m2025-07-04T10:37:16Z \u001b[0m\u001b[33mWARN \u001b[0m lance::dataset::write::insert\u001b[0m\u001b[38;5;8m]\u001b[0m No existing dataset at /kaggle/working/work/output\\lancedb/default-entity-description.lance, it will be created\r\n",
      "\u001b[0m\u001b[38;5;8m[\u001b[0m2025-07-04T10:45:15Z \u001b[0m\u001b[33mWARN \u001b[0m lance::dataset::write::insert\u001b[0m\u001b[38;5;8m]\u001b[0m No existing dataset at /kaggle/working/work/output\\lancedb/default-community-full_content.lance, it will be created\r\n",
      "\u001b[0m\u001b[38;5;8m[\u001b[0m2025-07-04T10:55:17Z \u001b[0m\u001b[33mWARN \u001b[0m lance::dataset::write::insert\u001b[0m\u001b[38;5;8m]\u001b[0m No existing dataset at /kaggle/working/work/output\\lancedb/default-text_unit-text.lance, it will be created\r\n"
     ]
    }
   ],
   "source": [
    "!cp -r /kaggle/input/shaoyourenzoudelu/settings.yaml ./work\n",
    "!graphrag index --root ./work > /dev/null"
   ]
  },
  {
   "cell_type": "code",
   "execution_count": 5,
   "id": "0d0bb24f",
   "metadata": {
    "execution": {
     "iopub.execute_input": "2025-07-04T10:55:25.647282Z",
     "iopub.status.busy": "2025-07-04T10:55:25.646901Z",
     "iopub.status.idle": "2025-07-04T10:55:27.951734Z",
     "shell.execute_reply": "2025-07-04T10:55:27.950757Z"
    },
    "papermill": {
     "duration": 2.311328,
     "end_time": "2025-07-04T10:55:27.953840",
     "exception": false,
     "start_time": "2025-07-04T10:55:25.642512",
     "status": "completed"
    },
    "tags": []
   },
   "outputs": [
    {
     "name": "stdout",
     "output_type": "stream",
     "text": [
      "\u001b[33mUsage: \u001b[0mgraphrag query [OPTIONS]\r\n",
      "\u001b[2mTry \u001b[0m\u001b[2;34m'graphrag query \u001b[0m\u001b[1;2;34m-\u001b[0m\u001b[1;2;34m-help\u001b[0m\u001b[2;34m'\u001b[0m\u001b[2m for help.\u001b[0m\r\n",
      "\u001b[31m╭─\u001b[0m\u001b[31m Error \u001b[0m\u001b[31m─────────────────────────────────────────────────────────────────────────────────────────\u001b[0m\u001b[31m─╮\u001b[0m\r\n",
      "\u001b[31m│\u001b[0m Missing option '\u001b[1;36m-\u001b[0m\u001b[1;36m-query\u001b[0m' / '\u001b[1;32m-q\u001b[0m'.                                                                 \u001b[31m│\u001b[0m\r\n",
      "\u001b[31m╰──────────────────────────────────────────────────────────────────────────────────────────────────╯\u001b[0m\r\n"
     ]
    }
   ],
   "source": [
    "!graphrag query --root ./work --method local \"人生危机发生通常有什么样的时间次序？\""
   ]
  },
  {
   "cell_type": "code",
   "execution_count": 6,
   "id": "510a3606",
   "metadata": {
    "execution": {
     "iopub.execute_input": "2025-07-04T10:55:27.960551Z",
     "iopub.status.busy": "2025-07-04T10:55:27.960172Z",
     "iopub.status.idle": "2025-07-04T10:55:30.101629Z",
     "shell.execute_reply": "2025-07-04T10:55:30.100285Z"
    },
    "papermill": {
     "duration": 2.146775,
     "end_time": "2025-07-04T10:55:30.103389",
     "exception": false,
     "start_time": "2025-07-04T10:55:27.956614",
     "status": "completed"
    },
    "tags": []
   },
   "outputs": [
    {
     "name": "stdout",
     "output_type": "stream",
     "text": [
      "\u001b[33mUsage: \u001b[0mgraphrag query [OPTIONS]\r\n",
      "\u001b[2mTry \u001b[0m\u001b[2;34m'graphrag query \u001b[0m\u001b[1;2;34m-\u001b[0m\u001b[1;2;34m-help\u001b[0m\u001b[2;34m'\u001b[0m\u001b[2m for help.\u001b[0m\r\n",
      "\u001b[31m╭─\u001b[0m\u001b[31m Error \u001b[0m\u001b[31m─────────────────────────────────────────────────────────────────────────────────────────\u001b[0m\u001b[31m─╮\u001b[0m\r\n",
      "\u001b[31m│\u001b[0m Missing option '\u001b[1;36m-\u001b[0m\u001b[1;36m-query\u001b[0m' / '\u001b[1;32m-q\u001b[0m'.                                                                 \u001b[31m│\u001b[0m\r\n",
      "\u001b[31m╰──────────────────────────────────────────────────────────────────────────────────────────────────╯\u001b[0m\r\n"
     ]
    }
   ],
   "source": [
    "!graphrag query --root ./work --method global \"概括一下整本书的主旨？\""
   ]
  }
 ],
 "metadata": {
  "kaggle": {
   "accelerator": "none",
   "dataSources": [
    {
     "datasetId": 7794147,
     "sourceId": 12362350,
     "sourceType": "datasetVersion"
    }
   ],
   "dockerImageVersionId": 31040,
   "isGpuEnabled": false,
   "isInternetEnabled": true,
   "language": "python",
   "sourceType": "notebook"
  },
  "kernelspec": {
   "display_name": "Python 3",
   "language": "python",
   "name": "python3"
  },
  "language_info": {
   "codemirror_mode": {
    "name": "ipython",
    "version": 3
   },
   "file_extension": ".py",
   "mimetype": "text/x-python",
   "name": "python",
   "nbconvert_exporter": "python",
   "pygments_lexer": "ipython3",
   "version": "3.11.11"
  },
  "papermill": {
   "default_parameters": {},
   "duration": 22598.235033,
   "end_time": "2025-07-04T10:55:30.648871",
   "environment_variables": {},
   "exception": null,
   "input_path": "__notebook__.ipynb",
   "output_path": "__notebook__.ipynb",
   "parameters": {},
   "start_time": "2025-07-04T04:38:52.413838",
   "version": "2.6.0"
  }
 },
 "nbformat": 4,
 "nbformat_minor": 5
}
